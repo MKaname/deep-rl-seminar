{
 "cells": [
  {
   "cell_type": "code",
   "execution_count": 2,
   "metadata": {
    "ExecuteTime": {
     "end_time": "2019-02-02T00:01:40.946660Z",
     "start_time": "2019-02-02T00:01:40.595041Z"
    }
   },
   "outputs": [],
   "source": [
    "import torch\n",
    "from torch import nn\n",
    "from torch.autograd.variable import Variable\n",
    "from torchvision import transforms, datasets\n",
    "import matplotlib.pyplot as plt\n",
    "\n",
    "def mnist_data():\n",
    "    compose = transforms.Compose(\n",
    "        [transforms.ToTensor(),\n",
    "        transforms.Normalize((.5,.5,.5), (.5,.5,.5))])\n",
    "    out_dir = '../dataset'\n",
    "    return datasets.MNIST(root=out_dir, train=True,\n",
    "                          transform=compose, download=True)\n",
    "\n",
    "data = mnist_data()\n",
    "\n",
    "data_loader = torch.utils.data.DataLoader(data, \n",
    "                            batch_size=100, shuffle=True)\n",
    "num_batches=len(data_loader)"
   ]
  },
  {
   "cell_type": "code",
   "execution_count": 3,
   "metadata": {
    "ExecuteTime": {
     "end_time": "2019-02-02T00:01:43.938947Z",
     "start_time": "2019-02-02T00:01:43.913018Z"
    }
   },
   "outputs": [],
   "source": [
    "class Discriminator(torch.nn.Module):\n",
    "    def __init__(self, n_input=784, n_out=1):\n",
    "        super().__init__()\n",
    "        \n",
    "        self.l0 = nn.Sequential(\n",
    "            nn.Linear(n_input, 1024),\n",
    "            nn.LeakyReLU(0.2),\n",
    "            nn.Dropout(0.3),\n",
    "        )\n",
    "        \n",
    "        self.l1 = nn.Sequential(\n",
    "            nn.Linear(1024, 512),\n",
    "            nn.LeakyReLU(0.2),\n",
    "            nn.Dropout(0.3),\n",
    "        )\n",
    "        \n",
    "        self.l2 = nn.Sequential(\n",
    "            nn.Linear(512, 256),\n",
    "            nn.LeakyReLU(0.2),\n",
    "            nn.Dropout(0.3),\n",
    "        )\n",
    "        \n",
    "        self.out = nn.Sequential(\n",
    "            nn.Linear(256, n_out),\n",
    "            nn.Sigmoid()\n",
    "        )\n",
    "    def forward(self, x):\n",
    "        x = self.l0(x)\n",
    "        x = self.l1(x)\n",
    "        x = self.l2(x)\n",
    "        return self.out(x)\n",
    "    \n",
    "class Generator(torch.nn.Module):\n",
    "    def __init__(self, n_input=100, n_out=784):\n",
    "        super().__init__()\n",
    "        \n",
    "        self.l0 = nn.Sequential(\n",
    "            nn.Linear(n_input, 256),\n",
    "            nn.LeakyReLU(0.2)\n",
    "        )\n",
    "        self.l1 = nn.Sequential(\n",
    "            nn.Linear(256, 512),\n",
    "            nn.LeakyReLU(0.2)\n",
    "        )\n",
    "        self.l2 = nn.Sequential(\n",
    "            nn.Linear(512, 1024),\n",
    "            nn.LeakyReLU(0.2)\n",
    "        )\n",
    "        self.out = nn.Sequential(\n",
    "            nn.Linear(1024, n_out),\n",
    "            nn.Tanh()\n",
    "        )\n",
    "        \n",
    "    def forward(self, x):\n",
    "        x = self.l0(x)\n",
    "        x = self.l1(x)\n",
    "        x = self.l2(x)\n",
    "        return self.out(x)"
   ]
  },
  {
   "cell_type": "code",
   "execution_count": 35,
   "metadata": {
    "ExecuteTime": {
     "end_time": "2019-02-02T00:14:40.992878Z",
     "start_time": "2019-02-02T00:14:40.981142Z"
    }
   },
   "outputs": [],
   "source": [
    "def noise(batch_size):\n",
    "    return Variable(torch.randn(batch_size, 100))\n",
    "\n",
    "def ones_target(size):\n",
    "    return Variable(torch.ones(size, 1))\n",
    "\n",
    "def zeros_target(size):\n",
    "    return Variable(torch.zeros(size, 1))\n",
    "\n",
    "def train_discriminator(optimizer, real_data, fake_data):\n",
    "    n = real_data.size(0)\n",
    "    optimizer.zero_grad() #reset grads\n",
    "    \n",
    "    #train on real data\n",
    "    pred_real = discriminator(real_data)\n",
    "    err_real = loss(pred_real, ones_target(n))\n",
    "    err_real.backward()\n",
    "    \n",
    "    #train on fake data\n",
    "    pred_fake = discriminator(fake_data)\n",
    "    err_fake = loss(pred_fake, zeros_target(n))\n",
    "    err_fake.backward()\n",
    "    \n",
    "    #update\n",
    "    optimizer.step()\n",
    "    \n",
    "    return err_real + err_fake, pred_real, pred_fake\n",
    "\n",
    "def train_generator(optimizer, fake_data):\n",
    "    n = fake_data.size(0)\n",
    "    optimizer.zero_grad()\n",
    "    \n",
    "    pred = discriminator(fake_data)\n",
    "    err = loss(pred, ones_target(n))\n",
    "    err.backward()\n",
    "    \n",
    "    optimizer.step()\n",
    "    \n",
    "    return err\n",
    "\n",
    "def show_results(input_noise):\n",
    "    plt.rcParams['figure.figsize'] = 20, 20 \n",
    "    cols = 8 \n",
    "\n",
    "    pics = generator(input_noise).view(-1, 28, 28).detach()\n",
    "\n",
    "    for i in range(pics.size(0)):\n",
    "        plt.subplot(pics.size(0)/cols, cols, i+1)\n",
    "        \n",
    "        plt.tick_params(color='None')\n",
    "        plt.xticks(color='None')\n",
    "        plt.yticks(color='None')\n",
    "        \n",
    "        plt.imshow(pics[i], cmap='gray')\n",
    "        \n",
    "    plt.show()"
   ]
  },
  {
   "cell_type": "code",
   "execution_count": null,
   "metadata": {},
   "outputs": [],
   "source": [
    "generator = Generator()\n",
    "discriminator = Discriminator()\n",
    "\n",
    "d_opt = torch.optim.Adam(discriminator.parameters(), lr=2e-4)\n",
    "g_opt = torch.optim.Adam(generator.parameters(), lr=2e-4)\n",
    "\n",
    "loss = nn.BCELoss()\n",
    "\n",
    "test_noise = noise(8)"
   ]
  },
  {
   "cell_type": "code",
   "execution_count": 47,
   "metadata": {
    "ExecuteTime": {
     "end_time": "2019-02-02T01:44:01.479327Z",
     "start_time": "2019-02-02T01:34:18.863861Z"
    },
    "cell_style": "center"
   },
   "outputs": [
    {
     "name": "stdout",
     "output_type": "stream",
     "text": [
      "batch 0 100 200 300 400 500 \n",
      "epoch: 0 \td_err: 1.235 \tg_err: 0.967\n"
     ]
    },
    {
     "data": {
      "image/png": "[encoded data removed]",
      "text/plain": [
       "<Figure size 1440x1440 with 8 Axes>"
      ]
     },
     "metadata": {
      "needs_background": "light"
     },
     "output_type": "display_data"
    },
    {
     "name": "stdout",
     "output_type": "stream",
     "text": [
      "batch 0 100 200 300 400 500 \n",
      "epoch: 1 \td_err: 1.229 \tg_err: 0.971\n",
      "batch 0 100 200 300 400 500 \n",
      "epoch: 2 \td_err: 1.243 \tg_err: 0.953\n",
      "batch 0 100 200 300 400 500 \n",
      "epoch: 3 \td_err: 1.24 \tg_err: 0.952\n",
      "batch 0 100 200 300 400 500 \n",
      "epoch: 4 \td_err: 1.238 \tg_err: 0.965\n",
      "batch 0 100 200 300 400 500 \n",
      "epoch: 5 \td_err: 1.237 \tg_err: 0.952\n"
     ]
    },
    {
     "data": {
      "image/png": "[encoded data removed]",
      "text/plain": [
       "<Figure size 1440x1440 with 8 Axes>"
      ]
     },
     "metadata": {
      "needs_background": "light"
     },
     "output_type": "display_data"
    },
    {
     "name": "stdout",
     "output_type": "stream",
     "text": [
      "batch 0 100 200 300 400 500 \n",
      "epoch: 6 \td_err: 1.238 \tg_err: 0.953\n",
      "batch 0 100 200 300 400 500 \n",
      "epoch: 7 \td_err: 1.239 \tg_err: 0.971\n",
      "batch 0 100 200 300 400 500 \n",
      "epoch: 8 \td_err: 1.238 \tg_err: 0.958\n",
      "batch 0 100 200 300 400 500 \n",
      "epoch: 9 \td_err: 1.25 \tg_err: 0.944\n",
      "batch 0 100 200 300 400 500 \n",
      "epoch: 10 \td_err: 1.246 \tg_err: 0.954\n"
     ]
    },
    {
     "data": {
      "image/png": "[encoded data removed]",
      "text/plain": [
       "<Figure size 1440x1440 with 8 Axes>"
      ]
     },
     "metadata": {
      "needs_background": "light"
     },
     "output_type": "display_data"
    }
   ],
   "source": [
    "n_epoch = 11\n",
    "\n",
    "for epoch in range(n_epoch):\n",
    "    sum_loss_d = 0\n",
    "    sum_loss_g = 0\n",
    "    print('batch', end=' ')\n",
    "    for n_batch, (real_batch, _) in enumerate(data_loader):\n",
    "        if n_batch % 100 is 0:\n",
    "            print(n_batch, end=' ')\n",
    "            \n",
    "        n = real_batch.size(0)\n",
    "        \n",
    "        #train discriminator\n",
    "        real_data = Variable(real_batch.view(real_batch.size(0), -1))\n",
    "        fake_data = generator(noise(n)).detach()\n",
    "        \n",
    "        d_err, d_pred_real, d_pred_fake \\\n",
    "            = train_discriminator(d_opt, real_data, fake_data)\n",
    "        \n",
    "        #train generator\n",
    "        fake_data = generator(noise(n))\n",
    "        g_err = train_generator(g_opt, fake_data)\n",
    "        \n",
    "        sum_loss_d += d_err.data.item()\n",
    "        sum_loss_g += g_err.data.item()\n",
    "        \n",
    "    print('\\nepoch:', epoch, '\\td_err:', round(sum_loss_d / num_batches, 3), '\\tg_err:', \n",
    "          round(sum_loss_g / num_batches, 3))\n",
    "    \n",
    "    if epoch % 5 is 0:\n",
    "        show_results(test_noise)\n",
    "        plt.show()"
   ]
  }
 ],
 "metadata": {
  "kernelspec": {
   "display_name": "Python 3",
   "language": "python",
   "name": "python3"
  },
  "language_info": {
   "codemirror_mode": {
    "name": "ipython",
    "version": 3
   },
   "file_extension": ".py",
   "mimetype": "text/x-python",
   "name": "python",
   "nbconvert_exporter": "python",
   "pygments_lexer": "ipython3",
   "version": "3.6.7"
  },
  "latex_envs": {
   "LaTeX_envs_menu_present": true,
   "autoclose": false,
   "autocomplete": true,
   "bibliofile": "biblio.bib",
   "cite_by": "apalike",
   "current_citInitial": 1,
   "eqLabelWithNumbers": true,
   "eqNumInitial": 1,
   "hotkeys": {
    "equation": "Ctrl-E",
    "itemize": "Ctrl-I"
   },
   "labels_anchors": false,
   "latex_user_defs": false,
   "report_style_numbering": false,
   "user_envs_cfg": false
  },
  "varInspector": {
   "cols": {
    "lenName": 16,
    "lenType": 16,
    "lenVar": 40
   },
   "kernels_config": {
    "python": {
     "delete_cmd_postfix": "",
     "delete_cmd_prefix": "del ",
     "library": "var_list.py",
     "varRefreshCmd": "print(var_dic_list())"
    },
    "r": {
     "delete_cmd_postfix": ") ",
     "delete_cmd_prefix": "rm(",
     "library": "var_list.r",
     "varRefreshCmd": "cat(var_dic_list()) "
    }
   },
   "types_to_exclude": [
    "module",
    "function",
    "builtin_function_or_method",
    "instance",
    "_Feature"
   ],
   "window_display": false
  }
 },
 "nbformat": 4,
 "nbformat_minor": 2
}
