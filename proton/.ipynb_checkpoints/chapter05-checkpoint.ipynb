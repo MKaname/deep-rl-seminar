{
 "cells": [
  {
   "cell_type": "markdown",
   "metadata": {},
   "source": [
    "# 強化学習ゼミ 5章 実装パート"
   ]
  },
  {
   "cell_type": "markdown",
   "metadata": {},
   "source": [
    "## 自己紹介\n",
    "---\n",
    "* 川島 丸生\n",
    "* proton( @proton_1602) <font color=\"Gainsboro\">ちなみに、1602は電気素量の上4桁ですよ。</font>\n",
    "* 研究室は、AY, trok, nemr, mnmt, kwhr当たり？まだ未定。仮第一はAY。\n",
    "* 機械学習は去年の春のゼミ以降ちょこちょこやってたりする。バイトも一応機械学習関係\n",
    "* 強化学習は何もやってこなかったので初めてです。間違ってる、怪しい所がある時はちゃんと指摘してほしい。"
   ]
  },
  {
   "cell_type": "markdown",
   "metadata": {},
   "source": [
    "## 5章のメモ\n",
    "<font color=\"Gainsboro\">英弱がわざわざ英語の本を何度も必要ない所まで読み返さなくて済むように書いたメモ</font>  \n",
    "5章はp122~141(p99~118)  \n",
    "* FrozenLakeでの例(p122~124),常に最善の報酬を得る貪欲法だとうまく行かないときもあるよっていう、ただの導入\n",
    "* ベルマン方程式(p125~127), 将来の即時報酬和を再帰的な式を利用して過去の即時報酬を使うことで代用and高速化?, 確率を導入することで確率的な報酬等に対応できるよ、すごいね  \n",
    "    * p125: 決定的方策, p126~127:確率的方策の導入、一般的なベルマン方程式, p127:(状態)行動価値Qの導入\n",
    "    * p125: $ V_0(a=a_i)$はなんか状態価値のくせに方策引数?にしてて変な感じだが、決定的方策$\\pi$を取った時の$V_\\pi(s_0)$と同じ?\n",
    "    * p126: $S$は$s_0$から遷移可能な状態集合、$r_{s,a}$は行動aにより状態sに遷移した時の即時報酬、$V_s$は状態sの状態価値。$A$は状態$s_0$から取りうる行動集合  \n",
    "* 簡単な例によるQ学習の説明(p128~129), 行動に対する状態遷移を確率的にしてる。\n",
    "    * p129: Q値,行動の評価を学習して、行動の評価が最大になる行動を選択する方策を取るValueベース。遷移確率とかが既知な完全なモデルベースは珍しいので、予測していく必要もあるよ。\n",
    "* ループ等を含む一般的なマルコフ過程におけるV,Qの求め方(p129~131), この方法は状態空間が離散的で十分小さい必要があるが、ニューラルネットワークを用いたQ学習を用いるとなんとかなる(後章)、遷移確率を普通は知らないからある状態推移と行動時の報酬を覚えておく必要もある。\n",
    "    1. $V_i, Q_{s,a}$の初期化(0)\n",
    "    2. 全ての状態$s$についての状態価値$V_s$、全ての状態$s$,行動$a$についての行動価値$Q_{s,a}$をベルマン方程式で更新  \n",
    "    $V_s \\leftarrow \\max_\\alpha \\sum_{s'}p_{a,s\\rightarrow s'}(r_{s,a}+\\gamma V_{s'})$  \n",
    "    $Q_{s,a} \\leftarrow \\sum_{s'}p_{a,s\\rightarrow s'}(r_{s,a}+\\gamma \\max Q_{s',a'})$\n",
    "    3. 十分な回数か差分が一定値以下になるまで2をループ \n",
    "* FrozenLakeでの例(p132~139)(コード有)\n",
    "    * \n",
    "* まとめ(p140), RLで重要なV,Q,ベルマン方程式と値反復による改善を学んだ。次はディープQネットワーク"
   ]
  },
  {
   "cell_type": "code",
   "execution_count": 2,
   "metadata": {},
   "outputs": [
    {
     "name": "stdout",
     "output_type": "stream",
     "text": [
      "Best reward updated 0.000 -> 0.400\n",
      "Best reward updated 0.400 -> 0.600\n",
      "Best reward updated 0.600 -> 0.650\n",
      "Best reward updated 0.650 -> 0.750\n",
      "Best reward updated 0.750 -> 0.800\n",
      "Best reward updated 0.800 -> 0.850\n",
      "Solved in 22 iterations!\n"
     ]
    }
   ],
   "source": [
    "#01_frozenlake_v_iteration.py\n",
    "import gym\n",
    "import collections\n",
    "from tensorboardX import SummaryWriter\n",
    "\n",
    "ENV_NAME = \"FrozenLake-v0\"\n",
    "GAMMA = 0.9\n",
    "TEST_EPISODES = 20\n",
    "\n",
    "\n",
    "#Agentクラスの定義、読めばだいたいわかる\n",
    "class Agent:\n",
    "    def __init__(self):\n",
    "        self.env = gym.make(ENV_NAME)\n",
    "        self.state = self.env.reset()\n",
    "        self.rewards = collections.defaultdict(float)\n",
    "        self.transits = collections.defaultdict(collections.Counter)\n",
    "        self.values = collections.defaultdict(float)\n",
    "\n",
    "    def play_n_random_steps(self, count):\n",
    "        for _ in range(count):\n",
    "            #action_space.sample()で可能な行動をランダムに返してくれる\n",
    "            action = self.env.action_space.sample()\n",
    "            \n",
    "            #stepメソッドに行動を渡すと、状態,報酬,終了判定,デバッグ用情報を返す。\n",
    "            #ex: observation,reward,done,info=env.step(action)\n",
    "            new_state, reward, is_done, _ = self.env.step(action)\n",
    "            \n",
    "            #報酬表(Reward table)の更新、keyは状態,行動,次状態でvalueは即時報酬\n",
    "            self.rewards[(self.state, action, new_state)] = reward\n",
    "            \n",
    "            #遷移表(Transitions table)の更新\n",
    "            #ある状態sと行動aにより状態s'に行った回数を記録することで、\n",
    "            #未知の遷移確率を推定する。\n",
    "            self.transits[(self.state, action)][new_state] += 1\n",
    "            \n",
    "            #終了していた場合はresetして初期状態のobservationを返す\n",
    "            #そうじゃないならstepにより得られた新状態を入れる。\n",
    "            self.state = self.env.reset() if is_done else new_state\n",
    "\n",
    "    def calc_action_value(self, state, action):\n",
    "        target_counts = self.transits[(state, action)]\n",
    "        total = sum(target_counts.values())\n",
    "        action_value = 0.0\n",
    "        for tgt_state, count in target_counts.items():\n",
    "            reward = self.rewards[(state, action, tgt_state)]\n",
    "            action_value += (count / total) * (reward + GAMMA * self.values[tgt_state])\n",
    "        return action_value\n",
    "\n",
    "    def select_action(self, state):\n",
    "        best_action, best_value = None, None\n",
    "        for action in range(self.env.action_space.n):\n",
    "            action_value = self.calc_action_value(state, action)\n",
    "            if best_value is None or best_value < action_value:\n",
    "                best_value = action_value\n",
    "                best_action = action\n",
    "        return best_action\n",
    "\n",
    "    def play_episode(self, env):\n",
    "        total_reward = 0.0\n",
    "        state = env.reset()\n",
    "        while True:\n",
    "            action = self.select_action(state)\n",
    "            new_state, reward, is_done, _ = env.step(action)\n",
    "            self.rewards[(state, action, new_state)] = reward\n",
    "            self.transits[(state, action)][new_state] += 1\n",
    "            total_reward += reward\n",
    "            if is_done:\n",
    "                break\n",
    "            state = new_state\n",
    "        return total_reward\n",
    "\n",
    "    def value_iteration(self):\n",
    "        for state in range(self.env.observation_space.n):\n",
    "            state_values = [self.calc_action_value(state, action)\n",
    "                            for action in range(self.env.action_space.n)]\n",
    "            self.values[state] = max(state_values)\n",
    "\n",
    "\n",
    "if __name__ == \"__main__\":\n",
    "    test_env = gym.make(ENV_NAME)\n",
    "    agent = Agent()\n",
    "    writer = SummaryWriter(comment=\"-v-iteration\")\n",
    "\n",
    "    iter_no = 0\n",
    "    best_reward = 0.0\n",
    "    while True:\n",
    "        iter_no += 1\n",
    "        agent.play_n_random_steps(100)\n",
    "        agent.value_iteration()\n",
    "\n",
    "        reward = 0.0\n",
    "        for _ in range(TEST_EPISODES):\n",
    "            reward += agent.play_episode(test_env)\n",
    "        reward /= TEST_EPISODES\n",
    "        writer.add_scalar(\"reward\", reward, iter_no)\n",
    "        if reward > best_reward:\n",
    "            print(\"Best reward updated %.3f -> %.3f\" % (best_reward, reward))\n",
    "            best_reward = reward\n",
    "        if reward > 0.80:\n",
    "            print(\"Solved in %d iterations!\" % iter_no)\n",
    "            break\n",
    "    writer.close()\n"
   ]
  },
  {
   "cell_type": "code",
   "execution_count": 6,
   "metadata": {},
   "outputs": [],
   "source": [
    "import gym\n",
    "\n",
    "env=gym.make(\"CartPole-v0\")\n",
    "\n",
    "for episode in range(1):\n",
    "    env.reset()\n",
    "    for t in range(100):\n",
    "        action=env.action_space.sample()\n",
    "        env.step(0)\n",
    "        env.render(mode='rgb_array')"
   ]
  },
  {
   "cell_type": "code",
   "execution_count": 8,
   "metadata": {},
   "outputs": [],
   "source": [
    "env.close()"
   ]
  },
  {
   "cell_type": "code",
   "execution_count": null,
   "metadata": {},
   "outputs": [],
   "source": []
  }
 ],
 "metadata": {
  "kernelspec": {
   "display_name": "Python 3",
   "language": "python",
   "name": "python3"
  },
  "language_info": {
   "codemirror_mode": {
    "name": "ipython",
    "version": 3
   },
   "file_extension": ".py",
   "mimetype": "text/x-python",
   "name": "python",
   "nbconvert_exporter": "python",
   "pygments_lexer": "ipython3",
   "version": "3.6.7"
  }
 },
 "nbformat": 4,
 "nbformat_minor": 2
}
